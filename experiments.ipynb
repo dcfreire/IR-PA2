{
 "cells": [
  {
   "cell_type": "code",
   "execution_count": null,
   "metadata": {},
   "outputs": [],
   "source": [
    "import pandas as pd\n",
    "import ast"
   ]
  },
  {
   "cell_type": "code",
   "execution_count": null,
   "metadata": {},
   "outputs": [],
   "source": [
    "data = []\n",
    "with open(\"final_html/index\", \"r\", encoding=\"UTF-8\") as f:\n",
    "    for line in f:\n",
    "        sep = line.find(\":\")\n",
    "        data.append(len(ast.literal_eval(line[sep+1:])))\n",
    "s = pd.Series(data)"
   ]
  },
  {
   "cell_type": "code",
   "execution_count": null,
   "metadata": {},
   "outputs": [],
   "source": [
    "df = pd.DataFrame(s.describe(percentiles=[.5,.75,.95]))\n",
    "df"
   ]
  },
  {
   "cell_type": "code",
   "execution_count": null,
   "metadata": {},
   "outputs": [],
   "source": [
    "print(df.transpose().to_latex(index=False))\n"
   ]
  },
  {
   "cell_type": "code",
   "execution_count": null,
   "metadata": {},
   "outputs": [],
   "source": [
    "data2 = []\n",
    "with open(\"final_plain/index\", \"r\", encoding=\"UTF-8\") as f:\n",
    "    for line in f:\n",
    "        sep = line.find(\":\")\n",
    "        data2.append(len(ast.literal_eval(line[sep+1:])))"
   ]
  },
  {
   "cell_type": "code",
   "execution_count": null,
   "metadata": {},
   "outputs": [],
   "source": [
    "\n",
    "s2 = pd.Series(data2)\n",
    "\n",
    "df = pd.DataFrame(s2.describe(percentiles=[.5,.75,.95]))\n",
    "print(df.transpose().to_latex(index=False))\n"
   ]
  },
  {
   "cell_type": "code",
   "execution_count": null,
   "metadata": {},
   "outputs": [],
   "source": [
    "import json\n",
    "\n",
    "with open(\"bm25_html.json\", \"r\", encoding=\"UTF-8\") as f: \n",
    "    out = json.load(f)"
   ]
  },
  {
   "cell_type": "code",
   "execution_count": null,
   "metadata": {},
   "outputs": [],
   "source": [
    "len(out)"
   ]
  },
  {
   "cell_type": "code",
   "execution_count": null,
   "metadata": {},
   "outputs": [],
   "source": [
    "n_results = []\n",
    "n_scores = []\n",
    "\n",
    "for query in out:\n",
    "    n_results.append(len(query[\"Results\"]))\n",
    "    for result in query[\"Results\"]:\n",
    "        n_scores.append(result['Score'])"
   ]
  },
  {
   "cell_type": "code",
   "execution_count": null,
   "metadata": {},
   "outputs": [],
   "source": [
    "import pandas as pd\n",
    "\n",
    "dfresults = pd.DataFrame(n_results).describe(percentiles=[.05, .10]).transpose()\n",
    "dfscores = pd.DataFrame(n_scores).describe().transpose()"
   ]
  },
  {
   "cell_type": "code",
   "execution_count": null,
   "metadata": {},
   "outputs": [],
   "source": [
    "print(dfresults.style.hide(axis=\"index\").to_latex())\n",
    "print(dfscores.style.hide(axis=\"index\").to_latex())"
   ]
  },
  {
   "cell_type": "code",
   "execution_count": null,
   "metadata": {},
   "outputs": [],
   "source": [
    "import json\n",
    "\n",
    "with open(\"tfidf_plain.json\", \"r\", encoding=\"UTF-8\") as f: \n",
    "    out = json.load(f)\n",
    "\n",
    "n_results = []\n",
    "n_scores = []\n",
    "\n",
    "for query in out:\n",
    "    n_results.append(len(query[\"Results\"]))\n",
    "    for result in query[\"Results\"]:\n",
    "        n_scores.append(result['Score'])\n",
    "\n",
    "import pandas as pd\n",
    "\n",
    "dfresults = pd.DataFrame(n_results).describe(percentiles=[.05, .1, .40]).transpose()\n",
    "dfscores = pd.DataFrame(n_scores).describe().transpose()\n",
    "\n",
    "print(dfresults.to_latex())\n",
    "print(dfscores.to_latex(index=False))\n"
   ]
  },
  {
   "cell_type": "code",
   "execution_count": 5,
   "metadata": {},
   "outputs": [],
   "source": [
    "query_times = [4.849335193634033,  3.0577938556671143,  4.449282646179199,  4.21584677696228,  5.289286136627197,  4.6451404094696045,  5.12445330619812,  4.515410423278809,  4.41635537147522,  4.505817174911499,  5.154802560806274,  4.577600479125977,  2.800752878189087,  2.913741111755371,  3.5166852474212646,  4.727259874343872,  4.536906480789185,  3.526801109313965,  2.948714017868042,  5.017003059387207,  3.8476035594940186,  3.3399593830108643,  2.937434434890747,  3.324690818786621,  3.6530795097351074,  3.60483980178833,  3.626681327819824,  3.7087578773498535,  3.2707107067108154,  6.210782527923584,  7.148293495178223,  5.541807651519775,  5.4776084423065186,  7.779516696929932,  6.570625066757202,  6.041128158569336,  8.17075490951538,  6.070674896240234,  6.951565265655518,  7.540739297866821,  6.619757652282715,  7.514109134674072,  5.913329362869263,  5.732958555221558,  6.47818398475647,  5.816751718521118,  6.153398752212524,  6.972467660903931,  5.790999174118042,  6.291827917098999,  3.4427053928375244,  3.843890428543091,  4.082706689834595,  4.639049768447876,  4.09986424446106,  4.06640362739563,  3.666579484939575,  3.8521502017974854,  8.23939847946167,  4.6593921184539795,  5.610478162765503,  6.063374280929565,  4.04986834526062,  3.425098180770874,  3.6221745014190674,  4.406556129455566,  3.9265220165252686,  3.261422634124756,  3.0175960063934326,  4.055683851242065,  4.0615551471710205,  3.3573801517486572,  6.767621040344238,  4.580730438232422,  3.2760002613067627,  3.3300797939300537,  3.380631685256958,  3.2179112434387207,  3.5258805751800537,  4.43432092666626,  2.846958637237549,  3.5152666568756104,  4.949319124221802,  3.8351027965545654,  5.658236026763916,  6.533745288848877,  3.313607931137085,  6.418671369552612,  5.736883163452148,  4.038404941558838,  3.322836399078369,  2.9045650959014893,  2.922652006149292,  3.060123920440674,  3.5761561393737793,  3.2818143367767334,  3.0250394344329834,  3.1476120948791504,  2.9991328716278076,  3.0228383541107178]"
   ]
  },
  {
   "cell_type": "code",
   "execution_count": 6,
   "metadata": {},
   "outputs": [
    {
     "name": "stdout",
     "output_type": "stream",
     "text": [
      "\\begin{tabular}{rrrrrrrr}\n",
      "\\toprule\n",
      " count &    mean &      std &      min &      25\\% &      50\\% &      75\\% &      max \\\\\n",
      "\\midrule\n",
      " 100.0 & 4.56962 & 1.410534 & 2.800753 & 3.374819 & 4.091285 & 5.676917 & 8.239398 \\\\\n",
      "\\bottomrule\n",
      "\\end{tabular}\n",
      "\n"
     ]
    },
    {
     "name": "stderr",
     "output_type": "stream",
     "text": [
      "/tmp/ipykernel_645964/1936995138.py:3: FutureWarning: In future versions `DataFrame.to_latex` is expected to utilise the base implementation of `Styler.to_latex` for formatting and rendering. The arguments signature may therefore change. It is recommended instead to use `DataFrame.style.to_latex` which also contains additional functionality.\n",
      "  print(df.to_latex(index=False))\n"
     ]
    }
   ],
   "source": [
    "import pandas as pd\n",
    "df = pd.DataFrame(query_times).describe().transpose()\n",
    "print(df.to_latex(index=False))\n"
   ]
  },
  {
   "cell_type": "code",
   "execution_count": null,
   "metadata": {},
   "outputs": [],
   "source": []
  }
 ],
 "metadata": {
  "interpreter": {
   "hash": "4e1d9a8909477db77738c33245c29c7265277ef753467dede8cf3f814cde494e"
  },
  "kernelspec": {
   "display_name": "Python 3.10.5 64-bit",
   "language": "python",
   "name": "python3"
  },
  "language_info": {
   "codemirror_mode": {
    "name": "ipython",
    "version": 3
   },
   "file_extension": ".py",
   "mimetype": "text/x-python",
   "name": "python",
   "nbconvert_exporter": "python",
   "pygments_lexer": "ipython3",
   "version": "3.10.5"
  },
  "orig_nbformat": 4
 },
 "nbformat": 4,
 "nbformat_minor": 2
}
